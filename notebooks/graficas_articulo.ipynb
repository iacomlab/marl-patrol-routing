{
 "cells": [
  {
   "cell_type": "code",
   "metadata": {
    "jupyter": {
     "is_executing": true
    }
   },
   "source": [
    "import plotly.express as px\n",
    "from mongo import db\n",
    "from mongo.repository.resultados_trains_repository import RepositoryMongoResultadoTrain\n",
    "import gridfs\n",
    "import json\n",
    "\n",
    "repo = RepositoryMongoResultadoTrain()\n",
    "grid = gridfs.GridFS(db.bd, 'resultados_train_gridfs_revista')"
   ],
   "outputs": [],
   "execution_count": null
  },
  {
   "cell_type": "code",
   "metadata": {},
   "source": [
    "modelos = repo.find_many({'initial_position': 'best', 'area_algoritmo': 9})"
   ],
   "outputs": [],
   "execution_count": null
  },
  {
   "cell_type": "code",
   "metadata": {},
   "source": [
    "for x in modelos:\n",
    "    x.resultados_raw = json.loads(grid.get_last_version(x.name_gridfs).read())"
   ],
   "outputs": [],
   "execution_count": null
  },
  {
   "cell_type": "code",
   "metadata": {},
   "source": [
    "d = {}\n",
    "for m in modelos:\n",
    "    results = []\n",
    "    for x, y in enumerate(m.resultados_raw):\n",
    "        results.append((x, y['episode_reward_max'], y['episode_reward_mean'], y['episode_reward_min']))\n",
    "    # l = ''\n",
    "    # if m.size_square_obs == -1:\n",
    "    #     print(1)\n",
    "    #     l = 'Complete information'\n",
    "    # else:\n",
    "    #     # l = f'{m.algorithm}'\n",
    "    #     l = f'Line of sight {m.size_square_obs}'\n",
    "    name = m.name.split('--')[0]\n",
    "    name = name.split('_')[3:5]\n",
    "    name = f'{round(float(name[0]))} patrols - {round(float(name[1]))} Line of sight'\n",
    "    d[name] = results"
   ],
   "outputs": [],
   "execution_count": null
  },
  {
   "cell_type": "code",
   "metadata": {},
   "source": [
    "k1 = []\n",
    "v1 = []\n",
    "c1 = []\n",
    "L = ['Line of sight 0', 'Line of sight 1', 'Line of sight 2', 'Line of sight 3', 'Line of sight 4',\n",
    "            'Line of sight 5', 'Line of sight 6', 'Line of sight 7',\n",
    "            'Line of sight 8'\n",
    "            # 'Complete information'\n",
    "         ]\n",
    "a = ['vdppo', 'ippo', 'mappo', 'matrpo', 'vda2c']\n",
    "for x in sorted(d, key=lambda k:1000*float(k.split(' ')[0])+float(k.split(' ')[3])):\n",
    "    for z in d[x]:\n",
    "        if x == 'vda2c':\n",
    "             for i, _ in enumerate(range(7)):\n",
    "                k1.append(z[0]*7-i)\n",
    "                v1.append(z[2]) \n",
    "                c1.append(x)\n",
    "        else:\n",
    "            i = round(100_000_000 * z[0]/len(d[x]),0)\n",
    "            # k1.append(z[0])\n",
    "            k1.append(i)\n",
    "            v1.append(z[2]) \n",
    "            c1.append(x)\n",
    "            # c1.append(x[len('Line of sight')+1:])"
   ],
   "outputs": [],
   "execution_count": null
  },
  {
   "cell_type": "code",
   "metadata": {},
   "source": [
    "fig_t_1 =  px.scatter(x=k1, y=v1, color=c1,\n",
    "                     color_discrete_sequence=[\"cyan\", \"blue\", \"lime\", \"green\", \"yellow\", \"orange\", \"red\", \"purple\", \"brown\"],\n",
    "                      trendline=\"lowess\", trendline_options=dict(frac=0.005)\n",
    "#                       trendline_scope=\"overall\",trendline_color_override=\"grey\"\n",
    "                     )\n",
    "\n",
    "# fig_t_1.update_traces(mode=\"markers\")\n",
    "fig_t_1.update_traces(visible=False, selector=dict(mode=\"markers\"))\n",
    "fig_t_1.update_xaxes(title_text='Steps',showgrid=True, gridwidth=1, gridcolor='#d8d8d8', dtick=10_000_000, range=[-250, 100_000_000],\n",
    "                     tickfont=dict(size=20),titlefont=dict(size=26))\n",
    "fig_t_1.update_yaxes(title_text='Mean reward',showgrid=True, gridwidth=1, gridcolor='#d8d8d8',\n",
    "                     zeroline=True, zerolinewidth=1, zerolinecolor='#8C8C8C', dtick=5000, range=[-40000, 25000],\n",
    "                     tickfont=dict(size=20),titlefont=dict(size=26))\n",
    "fig_t_1.update_layout(title='VDPPO Models - Best position Zone 3',legend=dict(\n",
    "    title = 'Models',font=dict(size=22)))\n",
    "fig_t_1.update_traces(showlegend=True, selector=dict(mode='lines'))\n",
    "fig_t_1.update_layout(\n",
    "    autosize=False,\n",
    "    width=1000,\n",
    "    height=600,\n",
    ")\n",
    "fig_t_1"
   ],
   "outputs": [],
   "execution_count": null
  }
 ],
 "metadata": {
  "kernelspec": {
   "display_name": "Python 3 (ipykernel)",
   "language": "python",
   "name": "python3"
  },
  "language_info": {
   "codemirror_mode": {
    "name": "ipython",
    "version": 3
   },
   "file_extension": ".py",
   "mimetype": "text/x-python",
   "name": "python",
   "nbconvert_exporter": "python",
   "pygments_lexer": "ipython3",
   "version": "3.9.10"
  }
 },
 "nbformat": 4,
 "nbformat_minor": 4
}
